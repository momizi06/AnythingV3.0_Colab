{
  "cells": [
    {
      "cell_type": "markdown",
      "metadata": {
        "id": "view-in-github",
        "colab_type": "text"
      },
      "source": [
        "<a href=\"https://colab.research.google.com/github/momizi06/AnythingV3.0_Colab/blob/main/SD_illustrationModel%2BWebUI_V1_0.ipynb\" target=\"_parent\"><img src=\"https://colab.research.google.com/assets/colab-badge.svg\" alt=\"Open In Colab\"/></a>"
      ]
    },
    {
      "cell_type": "markdown",
      "source": [
        "# はじめにお読みください (Read me FIRST)"
      ],
      "metadata": {
        "id": "ovWQLvTwtqZg"
      }
    },
    {
      "cell_type": "markdown",
      "source": [
        "StableDiffusion派生モデルのうち、イラストを生成できるモデルを簡単に動かせるようにしたノートブックです。  \n",
        "\n",
        "上から順番に▶︎を押していってください。WebUIを止める時は⬛︎で止まります。  \n",
        "\n",
        "使用する前に、必ず[CreativeML Open RAIL-Mライセンス](https://github.com/CompVis/stable-diffusion/blob/main/LICENSE)を一読の上、**了承できる場合のみ**お使いください。  \n",
        "また、本ノートブックはMITライセンスで配布しています。\n",
        "\n",
        "(English)  \n",
        "This notebook can easily use StableDiffusion fork models that generate illustrations.  \n",
        "Please press ▶︎ in order from the top. ⬛︎ is used to stop the WebUI.  \n",
        "Please read the [CreativeML Open RAIL-M License](https://github.com/CompVis/stable-diffusion/blob/main/LICENSE) before use.  \n",
        "This notebook is distributed under the MIT License."
      ],
      "metadata": {
        "id": "D4bbSjYAt1r7"
      }
    },
    {
      "cell_type": "markdown",
      "source": [
        "# WebUIの起動, 実行 (Setup WebUI and Launch)"
      ],
      "metadata": {
        "id": "gG-S_4y23qdE"
      }
    },
    {
      "cell_type": "markdown",
      "metadata": {
        "id": "VBDPqhYnyBL1"
      },
      "source": [
        "## GPUの確認 (Check GPU)"
      ]
    },
    {
      "cell_type": "code",
      "execution_count": null,
      "metadata": {
        "id": "woQCdVO8x-Kt",
        "colab": {
          "base_uri": "https://localhost:8080/"
        },
        "outputId": "dc4a014e-a6d6-4a4d-ffd1-b0c3e4d5d5b8"
      },
      "outputs": [
        {
          "output_type": "stream",
          "name": "stdout",
          "text": [
            "Fri Jan 27 11:27:31 2023       \n",
            "+-----------------------------------------------------------------------------+\n",
            "| NVIDIA-SMI 510.47.03    Driver Version: 510.47.03    CUDA Version: 11.6     |\n",
            "|-------------------------------+----------------------+----------------------+\n",
            "| GPU  Name        Persistence-M| Bus-Id        Disp.A | Volatile Uncorr. ECC |\n",
            "| Fan  Temp  Perf  Pwr:Usage/Cap|         Memory-Usage | GPU-Util  Compute M. |\n",
            "|                               |                      |               MIG M. |\n",
            "|===============================+======================+======================|\n",
            "|   0  Tesla T4            Off  | 00000000:00:04.0 Off |                    0 |\n",
            "| N/A   56C    P0    30W /  70W |      0MiB / 15360MiB |      0%      Default |\n",
            "|                               |                      |                  N/A |\n",
            "+-------------------------------+----------------------+----------------------+\n",
            "                                                                               \n",
            "+-----------------------------------------------------------------------------+\n",
            "| Processes:                                                                  |\n",
            "|  GPU   GI   CI        PID   Type   Process name                  GPU Memory |\n",
            "|        ID   ID                                                   Usage      |\n",
            "|=============================================================================|\n",
            "|  No running processes found                                                 |\n",
            "+-----------------------------------------------------------------------------+\n",
            "nvcc: NVIDIA (R) Cuda compiler driver\n",
            "Copyright (c) 2005-2021 NVIDIA Corporation\n",
            "Built on Sun_Feb_14_21:12:58_PST_2021\n",
            "Cuda compilation tools, release 11.2, V11.2.152\n",
            "Build cuda_11.2.r11.2/compiler.29618528_0\n",
            "              total        used        free      shared  buff/cache   available\n",
            "Mem:           12Gi       606Mi       9.1Gi       1.0Mi       3.0Gi        11Gi\n",
            "Swap:            0B          0B          0B\n"
          ]
        }
      ],
      "source": [
        "!nvidia-smi\n",
        "!nvcc -V\n",
        "!free -h"
      ]
    },
    {
      "cell_type": "markdown",
      "metadata": {
        "id": "OHCtG9MT0jLq"
      },
      "source": [
        "## WebUIの取得 (Clone webui repository)\n"
      ]
    },
    {
      "cell_type": "code",
      "execution_count": null,
      "metadata": {
        "id": "sBbcB4vwj_jm",
        "colab": {
          "base_uri": "https://localhost:8080/"
        },
        "outputId": "3a819a33-afcd-431e-9985-3206f70e04ab"
      },
      "outputs": [
        {
          "output_type": "stream",
          "name": "stdout",
          "text": [
            "/content\n",
            "Cloning into 'stable-diffusion-webui'...\n",
            "remote: Enumerating objects: 15470, done.\u001b[K\n",
            "remote: Counting objects: 100% (26/26), done.\u001b[K\n",
            "remote: Compressing objects: 100% (18/18), done.\u001b[K\n",
            "remote: Total 15470 (delta 8), reused 17 (delta 8), pack-reused 15444\u001b[K\n",
            "Receiving objects: 100% (15470/15470), 26.96 MiB | 8.37 MiB/s, done.\n",
            "Resolving deltas: 100% (10839/10839), done.\n",
            "/content/stable-diffusion-webui\n",
            "Already up to date.\n",
            "Cloning into 'extensions/images-browser'...\n",
            "remote: Enumerating objects: 143, done.\u001b[K\n",
            "remote: Counting objects: 100% (14/14), done.\u001b[K\n",
            "remote: Compressing objects: 100% (8/8), done.\u001b[K\n",
            "remote: Total 143 (delta 8), reused 6 (delta 6), pack-reused 129\u001b[K\n",
            "Receiving objects: 100% (143/143), 39.44 KiB | 13.15 MiB/s, done.\n",
            "Resolving deltas: 100% (50/50), done.\n"
          ]
        }
      ],
      "source": [
        "%cd /content\n",
        "!git clone https://github.com/AUTOMATIC1111/stable-diffusion-webui\n",
        "\n",
        "%cd stable-diffusion-webui\n",
        "!git pull\n",
        "\n",
        "# Install image browser extension\n",
        "!git clone https://github.com/yfszzx/stable-diffusion-webui-images-browser extensions/images-browser\n",
        "\n",
        "# Delete sample data\n",
        "!rm -r /content/sample_data"
      ]
    },
    {
      "cell_type": "markdown",
      "metadata": {
        "id": "F0EINk5M0s-w"
      },
      "source": [
        "## モデル選択, 環境設定 (Choose Model and Config)"
      ]
    },
    {
      "cell_type": "markdown",
      "source": [
        "\n",
        "\n",
        "- `Model`: 使うモデルを選択 (Choose model)\n",
        "  - AnythingV3.0(pruned)\n",
        "    - [Linaqruf/anything-v3.0](https://huggingface.co/Linaqruf/anything-v3.0)にはもう残っていませんが、別のリポジトリ([ckpt/anything-v3.0](https://huggingface.co/ckpt/anything-v3.0))に残っていたのでそれを利用  \n",
        "    ([Linaquruf/anything-v3.0](https://huggingface.co/Linaqurf/anything-v3.0) no more provide this model. However, I found archived repo([ckpt/anything-v3.0](https://huggingface.co/ckpt/anything-v3.0)) that has removed model so use it)\n",
        "  - AnythingV3.0-better-VAE(fp32-pruned)\n",
        "    - [Linaquruf/anything-v3.0](https://huggingface.co/Linaqruf/anything-v3.0)に今存在しているモデルがbetter-VAE版  \n",
        "    (Now [Linaquruf/anything-v3,0](https://huggingface.co/Linaqruf/anything-v3.0) provides this version so use it)\n",
        "  - AnythingV4.0(pruned)\n",
        "    - [andite/anything-v4.0](https://huggingface.co/andite/anything-v4.0)\n",
        "  - AnythingV4.5(pruned)\n",
        "    - [andite/anything-v4.0](https://huggingface.co/andite/anything-v4.0)\n",
        "  - TrinArt Derrida model\n",
        "    - [naclbit/trinart_derrida_characters_v2_stable_diffusion](https://huggingface.co/naclbit/trinart_derrida_characters_v2_stable_diffusion)\n",
        "  - ACertainThing(half)\n",
        "    - [JosephusCheung/ACertainThing](https://huggingface.co/JosephusCheung/ACertainThing)\n",
        "  - 8528d-final\n",
        "    - [852wa/8528-diffusion](https://huggingface.co/852wa/8528-diffusion)\n",
        "  - CounterfeitV2.0(fp16)\n",
        "    - [gsdf/Counterfeit-V2.0](https://huggingface.co/gsdf/Counterfeit-V2.0)\n",
        "\n",
        "- `use_ngrok`: ngrokを使用する場合チェックを入れる  \n",
        "(If you use ngrok, check this box)\n",
        "  - `ngrok_token`: ngrokのトークン (ngrok token)\n",
        "  - `ngrok_region`: ngrokのリージョン(jaがおすすめ) (ngrok region)\n",
        "\n",
        "- `no_half_vae`: 出力が真っ黒になる場合はチェックを入れる  \n",
        "(If you get black output images, check this box)\n",
        "  - デメリットとして若干生成時間が長くなるのと、僅かに出力結果が変わる  \n",
        "   (This will affect generation speed and make a little different outputs)\n",
        "\n"
      ],
      "metadata": {
        "id": "Txxnq5GL4QA8"
      }
    },
    {
      "cell_type": "code",
      "source": [
        "%cd /content/stable-diffusion-webui/models/Stable-diffusion/\n",
        "!apt install -y -qq aria2\n",
        "\n",
        "Model = \"AnythingV3.0\" #@param [\"AnythingV3.0\", \"AnythingV3.0_better_VAE\", \"AnythingV4.0\", \"AnythingV4.5\", \"TrinArt Derrida model (Characters v2)\", \"ACertainThing\", \"8528d-final\", \"Counterfeit-V2.0\"]\n",
        "print(f\"Install \\033[32;1m{Model}\\033[0m\")\n",
        "\n",
        "\n",
        "\n",
        "if (Model == \"AnythingV3.0\"):\n",
        "  !aria2c --summary-interval=10 -x 3 --allow-overwrite=true -o Anything-V3.0-pruned.ckpt \\\n",
        "  https://huggingface.co/ckpt/anything-v3.0/resolve/main/Anything-V3.0-pruned.ckpt\n",
        "  !curl -Lo /content/stable-diffusion-webui/models/VAE/Anything-V3.0.vae.pt https://huggingface.co/ckpt/anything-v3.0/resolve/main/Anything-V3.0.vae.pt\n",
        "  vae_option=\"--vae-path /content/stable-diffusion-webui/models/VAE/Anything-V3.0.vae.pt\"\n",
        "  ckpt_option=\"--ckpt /content/stable-diffusion-webui/models/Stable-diffusion/Anything-V3.0-pruned.ckpt\"\n",
        "\n",
        "\n",
        "elif (Model == \"AnythingV3.0_better_VAE\"):\n",
        "  !aria2c --summary-interval=10 -x 3 --allow-overwrite=true -o anything-v3-fp32-pruned.safetensors \\\n",
        "  https://huggingface.co/Linaqruf/anything-v3.0/resolve/main/anything-v3-fp32-pruned.safetensors\n",
        "  vae_option=\"\"\n",
        "  ckpt_option=\"--ckpt /content/stable-diffusion-webui/models/Stable-diffusion/anything-v3-fp32-pruned.safetensors\"\n",
        "\n",
        "\n",
        "if (Model == \"AnythingV4.0\"):\n",
        "  !aria2c --summary-interval=10 -x 3 --allow-overwrite=true -o anything-v4.0-pruned.safetensors \\\n",
        "  https://huggingface.co/andite/anything-v4.0/resolve/main/anything-v4.0-pruned.safetensors\n",
        "  !curl -Lo /content/stable-diffusion-webui/models/VAE/anything-v4.0.vae.pt https://huggingface.co/andite/anything-v4.0/resolve/main/anything-v4.0.vae.pt\n",
        "  vae_option=\"--vae-path /content/stable-diffusion-webui/models/VAE/anything-v4.0.vae.pt\"\n",
        "  ckpt_option=\"--ckpt /content/stable-diffusion-webui/models/Stable-diffusion/anything-v4.0-pruned.safetensors\"\n",
        "\n",
        "\n",
        "if (Model == \"AnythingV4.5\"):\n",
        "  !aria2c --summary-interval=10 -x 3 --allow-overwrite=true -o anything-v4.5-pruned.safetensors \\\n",
        "  https://huggingface.co/andite/anything-v4.0/resolve/main/anything-v4.5-pruned.safetensors\n",
        "  !curl -Lo /content/stable-diffusion-webui/models/VAE/anything-v4.0.vae.pt https://huggingface.co/andite/anything-v4.0/resolve/main/anything-v4.0.vae.pt\n",
        "  vae_option=\"--vae-path /content/stable-diffusion-webui/models/VAE/anything-v4.0.vae.pt\"\n",
        "  ckpt_option=\"--ckpt /content/stable-diffusion-webui/models/Stable-diffusion/anything-v4.0-pruned.safetensors\"\n",
        "\n",
        "\n",
        "elif (Model == \"TrinArt Derrida model (Characters v2)\"):\n",
        "  !aria2c --summary-interval=10 -x 3 --allow-overwrite=true -o derrida_final.ckpt \\\n",
        "  https://huggingface.co/naclbit/trinart_derrida_characters_v2_stable_diffusion/resolve/main/derrida_final.ckpt\n",
        "  !curl -Lo /content/stable-diffusion-webui/models/VAE/TrinArt-V2.vae.pt https://huggingface.co/naclbit/trinart_derrida_characters_v2_stable_diffusion/resolve/main/autoencoder_fix_kl-f8-trinart_characters.ckpt\n",
        "  vae_option=\"--vae-path /content/stable-diffusion-webui/models/VAE/TrinArt-V2.vae.pt\"\n",
        "  ckpt_option=\"--ckpt /content/stable-diffusion-webui/models/Stable-diffusion/derrida_final.ckpt\"\n",
        "\n",
        "\n",
        "elif (Model == \"ACertainThing\"):\n",
        "  !aria2c --summary-interval=10 -x 3 --allow-overwrite=true -o ACertainThing-half.ckpt \\\n",
        "  https://huggingface.co/JosephusCheung/ACertainThing/resolve/main/ACertainThing-half.ckpt\n",
        "  vae_option=\"\"\n",
        "  ckpt_option=\"--ckpt /content/stable-diffusion-webui/models/Stable-diffusion/ACertainThing-half.ckpt\"\n",
        "\n",
        "\n",
        "elif (Model == \"8528d-final\"):\n",
        "  !aria2c --summary-interval=10 -x 3 --allow-overwrite=true -o 8528d-final.ckpt \\\n",
        "  https://huggingface.co/852wa/8528-diffusion/resolve/main/8528d-final.ckpt\n",
        "  vae_option=\"\"\n",
        "  ckpt_option=\"--ckpt /content/stable-diffusion-webui/models/Stable-diffusion/8528d-final.ckpt\"\n",
        "\n",
        "\n",
        "elif (Model == \"Counterfeit-V2.0\"):\n",
        "  !aria2c --summary-interval=10 -x 3 --allow-overwrite=true -o Counterfeit-V2.0fp16.safetensors \\\n",
        "  https://huggingface.co/gsdf/Counterfeit-V2.0/resolve/main/Counterfeit-V2.0fp16.safetensors\n",
        "  vae_option=\"\"\n",
        "  ckpt_option=\"--ckpt /content/stable-diffusion-webui/models/Stable-diffusion/Counterfeit-V2.0fp16.safetensors\"\n",
        "\n",
        "\n",
        "\n",
        "use_ngrok = False #@param {type: \"boolean\"}\n",
        "ngrok_token = \"\" #@param {type: \"string\"}\n",
        "ngrok_region = \"\" #@param {type: \"string\"}\n",
        "\n",
        "\n",
        "if (use_ngrok == True):\n",
        "  url_option = f\"--ngrok {ngrok_token} --ngrok-region {ngrok_region}\"\n",
        "  print(\"use \\033[32;1mngrok\\033[0m\")\n",
        "else:\n",
        "  url_option = \"--share \"\n",
        "\n",
        "\n",
        "#install_japanese_localization = False #@param {type: \"boolean\"}\n",
        "#if (install_japanese_localization == True):\n",
        "#  !curl -Lo /content/stable-diffusion-webui/extensions/localize_ja.zip https://github.com/Katsuyuki-Karasawa/stable-diffusion-webui-localization-ja_JP/archive/refs/heads/main.zip\n",
        "#  %cd /content/stable-diffusion-webui/extensions/\n",
        "#  !unzip -o localize_ja.zip\n",
        "\n",
        "\n",
        "no_half_vae = False #@param {type: \"boolean\"}\n",
        "if (no_half_vae == True):\n",
        "  ckpt_option=\"--no-half-vae \"+ckpt_option\n",
        "  print(\"use '--no-half-vae'\")\n",
        "\n"
      ],
      "metadata": {
        "id": "zgYMtCN8shCL",
        "cellView": "form",
        "colab": {
          "base_uri": "https://localhost:8080/"
        },
        "outputId": "9d9a5e50-6a83-4b8d-8167-31a17a7137e0"
      },
      "execution_count": null,
      "outputs": [
        {
          "output_type": "stream",
          "name": "stdout",
          "text": [
            "/content/stable-diffusion-webui/models/Stable-diffusion\n",
            "The following additional packages will be installed:\n",
            "  libaria2-0 libc-ares2\n",
            "The following NEW packages will be installed:\n",
            "  aria2 libaria2-0 libc-ares2\n",
            "0 upgraded, 3 newly installed, 0 to remove and 27 not upgraded.\n",
            "Need to get 1,476 kB of archives.\n",
            "After this operation, 5,958 kB of additional disk space will be used.\n",
            "Selecting previously unselected package libc-ares2:amd64.\n",
            "(Reading database ... 129502 files and directories currently installed.)\n",
            "Preparing to unpack .../libc-ares2_1.15.0-1ubuntu0.1_amd64.deb ...\n",
            "Unpacking libc-ares2:amd64 (1.15.0-1ubuntu0.1) ...\n",
            "Selecting previously unselected package libaria2-0:amd64.\n",
            "Preparing to unpack .../libaria2-0_1.35.0-1build1_amd64.deb ...\n",
            "Unpacking libaria2-0:amd64 (1.35.0-1build1) ...\n",
            "Selecting previously unselected package aria2.\n",
            "Preparing to unpack .../aria2_1.35.0-1build1_amd64.deb ...\n",
            "Unpacking aria2 (1.35.0-1build1) ...\n",
            "Setting up libc-ares2:amd64 (1.15.0-1ubuntu0.1) ...\n",
            "Setting up libaria2-0:amd64 (1.35.0-1build1) ...\n",
            "Setting up aria2 (1.35.0-1build1) ...\n",
            "Processing triggers for man-db (2.9.1-1) ...\n",
            "Processing triggers for libc-bin (2.31-0ubuntu9.9) ...\n",
            "Install \u001b[32;1mAnythingV3.0\u001b[0m\n",
            "\n",
            "01/27 11:27:50 [\u001b[1;32mNOTICE\u001b[0m] Downloading 1 item(s)\n",
            "\n",
            "01/27 11:27:51 [\u001b[1;32mNOTICE\u001b[0m] CUID#7 - Redirecting to https://cdn-lfs.huggingface.co/repos/43/3b/433bc34278d232abc26eacd1755075b8526959b10c4fa7332f4269bf9e9b4b6e/543bcbc21294831c6245cd74c8a7707761e28812c690f946cb81fef930d54b5e?response-content-disposition=attachment%3B+filename*%3DUTF-8%27%27Anything-V3.0-pruned.ckpt%3B+filename%3D%22Anything-V3.0-pruned.ckpt%22%3B&Expires=1675078071&Policy=eyJTdGF0ZW1lbnQiOlt7IlJlc291cmNlIjoiaHR0cHM6Ly9jZG4tbGZzLmh1Z2dpbmdmYWNlLmNvL3JlcG9zLzQzLzNiLzQzM2JjMzQyNzhkMjMyYWJjMjZlYWNkMTc1NTA3NWI4NTI2OTU5YjEwYzRmYTczMzJmNDI2OWJmOWU5YjRiNmUvNTQzYmNiYzIxMjk0ODMxYzYyNDVjZDc0YzhhNzcwNzc2MWUyODgxMmM2OTBmOTQ2Y2I4MWZlZjkzMGQ1NGI1ZT9yZXNwb25zZS1jb250ZW50LWRpc3Bvc2l0aW9uPSoiLCJDb25kaXRpb24iOnsiRGF0ZUxlc3NUaGFuIjp7IkFXUzpFcG9jaFRpbWUiOjE2NzUwNzgwNzF9fX1dfQ__&Signature=ud-kXq5ldUZKlmYqEGPnyGYY7pCTYZSDIkQ5lXvD%7ENSgB2NRqUPSZpooAaUSCT378Kdjj-OacVbaOcxNeb0egCQ2-RQAhD%7EYc4zK0JO4jUivpuBliI6PiR62l%7EqdeJq-ZWBurF7Lvj0wt9Z1kMqKMdSFI-nSNAD4tslcKZJkjCpJ0WXTrGy%7E5Kcj4Wr6074XyC2y9%7EZ8NjkbrbYg3hMAL5EnnWNcicu0n6eXmFyHTGBFZynb2REzan6N%7EFyOlJ6kxk3dwUQlgRT0DiYhhZFTm2UYwrRsRPGGajMd33GdKpsu-5JE%7EA4ryH5ac5H57R5Z19cKA42YU-xsYtoGsLNDuw__&Key-Pair-Id=KVTP0A1DKRTAX\n",
            "\u001b[0m\n",
            "01/27 11:27:51 [\u001b[1;32mNOTICE\u001b[0m] CUID#9 - Redirecting to https://cdn-lfs.huggingface.co/repos/43/3b/433bc34278d232abc26eacd1755075b8526959b10c4fa7332f4269bf9e9b4b6e/543bcbc21294831c6245cd74c8a7707761e28812c690f946cb81fef930d54b5e?response-content-disposition=attachment%3B+filename*%3DUTF-8%27%27Anything-V3.0-pruned.ckpt%3B+filename%3D%22Anything-V3.0-pruned.ckpt%22%3B&Expires=1675078072&Policy=eyJTdGF0ZW1lbnQiOlt7IlJlc291cmNlIjoiaHR0cHM6Ly9jZG4tbGZzLmh1Z2dpbmdmYWNlLmNvL3JlcG9zLzQzLzNiLzQzM2JjMzQyNzhkMjMyYWJjMjZlYWNkMTc1NTA3NWI4NTI2OTU5YjEwYzRmYTczMzJmNDI2OWJmOWU5YjRiNmUvNTQzYmNiYzIxMjk0ODMxYzYyNDVjZDc0YzhhNzcwNzc2MWUyODgxMmM2OTBmOTQ2Y2I4MWZlZjkzMGQ1NGI1ZT9yZXNwb25zZS1jb250ZW50LWRpc3Bvc2l0aW9uPSoiLCJDb25kaXRpb24iOnsiRGF0ZUxlc3NUaGFuIjp7IkFXUzpFcG9jaFRpbWUiOjE2NzUwNzgwNzJ9fX1dfQ__&Signature=fJX2cFI-1ZItIv%7E7CRDRivg%7EMAVGfjnZauKwNNUgXY77GSuLgRLsMhmfaf7puh%7EgddI%7EhwgXAheHRvMTS%7EJFoIlAzzSG1eUx5m-3b11xJbEKQqGi7yFnQ9RnHXpBrXjpm1kv5tIA0HBFL9%7E8TASaAyXgTKPZsGWHr3X6laggDzfktrBsSdcseDCgfSchen2xiFObx4IYGZxXnEh3RDrE2LNTlbUsehecJUK98jcNQO3mvH2iI1oVxz9Ima62oNUWOv7Jok%7EZS-px6eWuDQDFKGE6-wA7w9H9A1TJCPXKEPCtPau7BTXhR-m2SD8SlJToP3zR8DObnqs1QCOx%7Eic0sg__&Key-Pair-Id=KVTP0A1DKRTAX\n",
            "\n",
            "01/27 11:27:52 [\u001b[1;32mNOTICE\u001b[0m] CUID#10 - Redirecting to https://cdn-lfs.huggingface.co/repos/43/3b/433bc34278d232abc26eacd1755075b8526959b10c4fa7332f4269bf9e9b4b6e/543bcbc21294831c6245cd74c8a7707761e28812c690f946cb81fef930d54b5e?response-content-disposition=attachment%3B+filename*%3DUTF-8%27%27Anything-V3.0-pruned.ckpt%3B+filename%3D%22Anything-V3.0-pruned.ckpt%22%3B&Expires=1675078072&Policy=eyJTdGF0ZW1lbnQiOlt7IlJlc291cmNlIjoiaHR0cHM6Ly9jZG4tbGZzLmh1Z2dpbmdmYWNlLmNvL3JlcG9zLzQzLzNiLzQzM2JjMzQyNzhkMjMyYWJjMjZlYWNkMTc1NTA3NWI4NTI2OTU5YjEwYzRmYTczMzJmNDI2OWJmOWU5YjRiNmUvNTQzYmNiYzIxMjk0ODMxYzYyNDVjZDc0YzhhNzcwNzc2MWUyODgxMmM2OTBmOTQ2Y2I4MWZlZjkzMGQ1NGI1ZT9yZXNwb25zZS1jb250ZW50LWRpc3Bvc2l0aW9uPSoiLCJDb25kaXRpb24iOnsiRGF0ZUxlc3NUaGFuIjp7IkFXUzpFcG9jaFRpbWUiOjE2NzUwNzgwNzJ9fX1dfQ__&Signature=fJX2cFI-1ZItIv%7E7CRDRivg%7EMAVGfjnZauKwNNUgXY77GSuLgRLsMhmfaf7puh%7EgddI%7EhwgXAheHRvMTS%7EJFoIlAzzSG1eUx5m-3b11xJbEKQqGi7yFnQ9RnHXpBrXjpm1kv5tIA0HBFL9%7E8TASaAyXgTKPZsGWHr3X6laggDzfktrBsSdcseDCgfSchen2xiFObx4IYGZxXnEh3RDrE2LNTlbUsehecJUK98jcNQO3mvH2iI1oVxz9Ima62oNUWOv7Jok%7EZS-px6eWuDQDFKGE6-wA7w9H9A1TJCPXKEPCtPau7BTXhR-m2SD8SlJToP3zR8DObnqs1QCOx%7Eic0sg__&Key-Pair-Id=KVTP0A1DKRTAX\n",
            " *** Download Progress Summary as of Fri Jan 27 11:28:00 2023 *** \n",
            "=\n",
            "[#488a4d 2.1GiB/3.5GiB(61%) CN:3 DL:239MiB ETA:5s]\n",
            "FILE: /content/stable-diffusion-webui/models/Stable-diffusion/Anything-V3.0-pruned.ckpt\n",
            "-\n",
            "\n",
            "\u001b[0m\n",
            "01/27 11:28:06 [\u001b[1;32mNOTICE\u001b[0m] Download complete: /content/stable-diffusion-webui/models/Stable-diffusion/Anything-V3.0-pruned.ckpt\n",
            "\n",
            "Download Results:\n",
            "gid   |stat|avg speed  |path/URI\n",
            "======+====+===========+=======================================================\n",
            "488a4d|\u001b[1;32mOK\u001b[0m  |   246MiB/s|/content/stable-diffusion-webui/models/Stable-diffusion/Anything-V3.0-pruned.ckpt\n",
            "\n",
            "Status Legend:\n",
            "(OK):download completed.\n",
            "  % Total    % Received % Xferd  Average Speed   Time    Time     Time  Current\n",
            "                                 Dload  Upload   Total   Spent    Left  Speed\n",
            "100  1139  100  1139    0     0   1251      0 --:--:-- --:--:-- --:--:--  1250\n",
            "100  784M  100  784M    0     0   199M      0  0:00:03  0:00:03 --:--:--  224M\n"
          ]
        }
      ]
    },
    {
      "cell_type": "markdown",
      "source": [
        "## WebUIの実行 (Launch WebUI)"
      ],
      "metadata": {
        "id": "9-yNF2mDpMl1"
      }
    },
    {
      "cell_type": "markdown",
      "metadata": {
        "id": "xt8lbdmC04ox"
      },
      "source": [
        "WebUIを実行します。しばらくすると`nnn.gradio.live`というリンクが出るのでそれを押してください  \n",
        "(Launch web ui. You will get a link to `nnn.gradio.live`, follow it)\n",
        "\n",
        "- `use_auth`: 認証をWebUIに追加します  \n",
        "  (add authentication to gradio)\n",
        "  - `id`: 認証する際のusername  \n",
        "    (username that uses authentication)  \n",
        "  - `passwd`: 認証する際のpassword  \n",
        "    (password that uses authentication)"
      ]
    },
    {
      "cell_type": "code",
      "execution_count": null,
      "metadata": {
        "id": "R-xAdMA5wxXd",
        "cellView": "form",
        "colab": {
          "base_uri": "https://localhost:8080/"
        },
        "outputId": "3ea6d5a0-fc7a-4d35-8760-b6bdc8ba3b2a"
      },
      "outputs": [
        {
          "output_type": "stream",
          "name": "stdout",
          "text": [
            "/content/stable-diffusion-webui\n",
            "\u001b[2K     \u001b[90m━━━━━━━━━━━━━━━━━━━━━━━━━━━━━━━━━━━━━━━━\u001b[0m \u001b[32m2.1/2.1 MB\u001b[0m \u001b[31m66.4 MB/s\u001b[0m eta \u001b[36m0:00:00\u001b[0m\n",
            "\u001b[2K     \u001b[90m━━━━━━━━━━━━━━━━━━━━━━━━━━━━━━━━━━━━━━\u001b[0m \u001b[32m191.5/191.5 kB\u001b[0m \u001b[31m13.7 MB/s\u001b[0m eta \u001b[36m0:00:00\u001b[0m\n",
            "\u001b[2K     \u001b[90m━━━━━━━━━━━━━━━━━━━━━━━━━━━━━━━━━━━━━━\u001b[0m \u001b[32m172.5/172.5 kB\u001b[0m \u001b[31m19.8 MB/s\u001b[0m eta \u001b[36m0:00:00\u001b[0m\n",
            "\u001b[?25h  Preparing metadata (setup.py) ... \u001b[?25l\u001b[?25hdone\n",
            "\u001b[2K     \u001b[90m━━━━━━━━━━━━━━━━━━━━━━━━━━━━━━━━━━━━━━━━\u001b[0m \u001b[32m2.4/2.4 MB\u001b[0m \u001b[31m80.9 MB/s\u001b[0m eta \u001b[36m0:00:00\u001b[0m\n",
            "\u001b[?25h  Preparing metadata (setup.py) ... \u001b[?25l\u001b[?25hdone\n",
            "\u001b[2K     \u001b[90m━━━━━━━━━━━━━━━━━━━━━━━━━━━━━━━━━━━━━━━━\u001b[0m \u001b[32m52.2/52.2 kB\u001b[0m \u001b[31m6.3 MB/s\u001b[0m eta \u001b[36m0:00:00\u001b[0m\n",
            "\u001b[2K     \u001b[90m━━━━━━━━━━━━━━━━━━━━━━━━━━━━━━━━━━━━━━━━\u001b[0m \u001b[32m14.2/14.2 MB\u001b[0m \u001b[31m82.1 MB/s\u001b[0m eta \u001b[36m0:00:00\u001b[0m\n",
            "\u001b[2K     \u001b[90m━━━━━━━━━━━━━━━━━━━━━━━━━━━━━━━━━━━━━━━━\u001b[0m \u001b[32m1.6/1.6 MB\u001b[0m \u001b[31m77.4 MB/s\u001b[0m eta \u001b[36m0:00:00\u001b[0m\n",
            "\u001b[2K     \u001b[90m━━━━━━━━━━━━━━━━━━━━━━━━━━━━━━━━━━━━━━━━\u001b[0m \u001b[32m79.5/79.5 kB\u001b[0m \u001b[31m10.2 MB/s\u001b[0m eta \u001b[36m0:00:00\u001b[0m\n",
            "\u001b[2K     \u001b[90m━━━━━━━━━━━━━━━━━━━━━━━━━━━━━━━━━━━━━━\u001b[0m \u001b[32m708.1/708.1 kB\u001b[0m \u001b[31m40.5 MB/s\u001b[0m eta \u001b[36m0:00:00\u001b[0m\n",
            "\u001b[2K     \u001b[90m━━━━━━━━━━━━━━━━━━━━━━━━━━━━━━━━━━━━━━━━\u001b[0m \u001b[32m14.0/14.0 MB\u001b[0m \u001b[31m89.1 MB/s\u001b[0m eta \u001b[36m0:00:00\u001b[0m\n",
            "\u001b[2K     \u001b[90m━━━━━━━━━━━━━━━━━━━━━━━━━━━━━━━━━━━━━━\u001b[0m \u001b[32m377.0/377.0 kB\u001b[0m \u001b[31m35.6 MB/s\u001b[0m eta \u001b[36m0:00:00\u001b[0m\n",
            "\u001b[2K     \u001b[90m━━━━━━━━━━━━━━━━━━━━━━━━━━━━━━━━━━━━━━━━\u001b[0m \u001b[32m5.8/5.8 MB\u001b[0m \u001b[31m27.6 MB/s\u001b[0m eta \u001b[36m0:00:00\u001b[0m\n",
            "\u001b[2K     \u001b[90m━━━━━━━━━━━━━━━━━━━━━━━━━━━━━━━━━━━━━━━━\u001b[0m \u001b[32m41.6/41.6 kB\u001b[0m \u001b[31m4.6 MB/s\u001b[0m eta \u001b[36m0:00:00\u001b[0m\n",
            "\u001b[?25h  Preparing metadata (setup.py) ... \u001b[?25l\u001b[?25hdone\n",
            "\u001b[2K     \u001b[90m━━━━━━━━━━━━━━━━━━━━━━━━━━━━━━━━━━━━━━\u001b[0m \u001b[32m569.1/569.1 kB\u001b[0m \u001b[31m48.9 MB/s\u001b[0m eta \u001b[36m0:00:00\u001b[0m\n",
            "\u001b[2K     \u001b[90m━━━━━━━━━━━━━━━━━━━━━━━━━━━━━━━━━━━━━━\u001b[0m \u001b[32m108.0/108.0 kB\u001b[0m \u001b[31m13.5 MB/s\u001b[0m eta \u001b[36m0:00:00\u001b[0m\n",
            "\u001b[2K     \u001b[90m━━━━━━━━━━━━━━━━━━━━━━━━━━━━━━━━━━━━━━\u001b[0m \u001b[32m184.0/184.0 kB\u001b[0m \u001b[31m18.5 MB/s\u001b[0m eta \u001b[36m0:00:00\u001b[0m\n",
            "\u001b[2K     \u001b[90m━━━━━━━━━━━━━━━━━━━━━━━━━━━━━━━━━━━━━━━━\u001b[0m \u001b[32m59.2/59.2 kB\u001b[0m \u001b[31m7.4 MB/s\u001b[0m eta \u001b[36m0:00:00\u001b[0m\n",
            "\u001b[2K     \u001b[90m━━━━━━━━━━━━━━━━━━━━━━━━━━━━━━━━━━━━━━━━\u001b[0m \u001b[32m1.2/1.2 MB\u001b[0m \u001b[31m65.9 MB/s\u001b[0m eta \u001b[36m0:00:00\u001b[0m\n",
            "\u001b[2K     \u001b[90m━━━━━━━━━━━━━━━━━━━━━━━━━━━━━━━━━━━━━━━━\u001b[0m \u001b[32m2.3/2.3 MB\u001b[0m \u001b[31m90.1 MB/s\u001b[0m eta \u001b[36m0:00:00\u001b[0m\n",
            "\u001b[?25h  Preparing metadata (setup.py) ... \u001b[?25l\u001b[?25hdone\n",
            "\u001b[2K     \u001b[90m━━━━━━━━━━━━━━━━━━━━━━━━━━━━━━━━━━━━━━━━\u001b[0m \u001b[32m84.5/84.5 kB\u001b[0m \u001b[31m11.5 MB/s\u001b[0m eta \u001b[36m0:00:00\u001b[0m\n",
            "\u001b[2K     \u001b[90m━━━━━━━━━━━━━━━━━━━━━━━━━━━━━━━━━━━━━━\u001b[0m \u001b[32m107.0/107.0 kB\u001b[0m \u001b[31m11.2 MB/s\u001b[0m eta \u001b[36m0:00:00\u001b[0m\n",
            "\u001b[?25h  Preparing metadata (setup.py) ... \u001b[?25l\u001b[?25hdone\n",
            "\u001b[2K     \u001b[90m━━━━━━━━━━━━━━━━━━━━━━━━━━━━━━━━━━━━━━\u001b[0m \u001b[32m140.6/140.6 kB\u001b[0m \u001b[31m18.6 MB/s\u001b[0m eta \u001b[36m0:00:00\u001b[0m\n",
            "\u001b[2K     \u001b[90m━━━━━━━━━━━━━━━━━━━━━━━━━━━━━━━━━━━━━━━━\u001b[0m \u001b[32m71.5/71.5 kB\u001b[0m \u001b[31m8.8 MB/s\u001b[0m eta \u001b[36m0:00:00\u001b[0m\n",
            "\u001b[2K     \u001b[90m━━━━━━━━━━━━━━━━━━━━━━━━━━━━━━━━━━━━━━━━\u001b[0m \u001b[32m55.8/55.8 kB\u001b[0m \u001b[31m7.4 MB/s\u001b[0m eta \u001b[36m0:00:00\u001b[0m\n",
            "\u001b[2K     \u001b[90m━━━━━━━━━━━━━━━━━━━━━━━━━━━━━━━━━━━━━━━━\u001b[0m \u001b[32m56.9/56.9 kB\u001b[0m \u001b[31m6.4 MB/s\u001b[0m eta \u001b[36m0:00:00\u001b[0m\n",
            "\u001b[2K     \u001b[90m━━━━━━━━━━━━━━━━━━━━━━━━━━━━━━━━━━━━━━\u001b[0m \u001b[32m512.4/512.4 kB\u001b[0m \u001b[31m41.4 MB/s\u001b[0m eta \u001b[36m0:00:00\u001b[0m\n",
            "\u001b[2K     \u001b[90m━━━━━━━━━━━━━━━━━━━━━━━━━━━━━━━━━━━━━━\u001b[0m \u001b[32m190.3/190.3 kB\u001b[0m \u001b[31m24.7 MB/s\u001b[0m eta \u001b[36m0:00:00\u001b[0m\n",
            "\u001b[2K     \u001b[90m━━━━━━━━━━━━━━━━━━━━━━━━━━━━━━━━━━━━━━━━\u001b[0m \u001b[32m7.6/7.6 MB\u001b[0m \u001b[31m107.9 MB/s\u001b[0m eta \u001b[36m0:00:00\u001b[0m\n",
            "\u001b[2K     \u001b[90m━━━━━━━━━━━━━━━━━━━━━━━━━━━━━━━━━━━━━━\u001b[0m \u001b[32m131.5/131.5 kB\u001b[0m \u001b[31m12.6 MB/s\u001b[0m eta \u001b[36m0:00:00\u001b[0m\n",
            "\u001b[2K     \u001b[90m━━━━━━━━━━━━━━━━━━━━━━━━━━━━━━━━━━━━━━━━\u001b[0m \u001b[32m3.4/3.4 MB\u001b[0m \u001b[31m93.3 MB/s\u001b[0m eta \u001b[36m0:00:00\u001b[0m\n",
            "\u001b[2K     \u001b[90m━━━━━━━━━━━━━━━━━━━━━━━━━━━━━━━━━━━━━━━━\u001b[0m \u001b[32m17.3/17.3 MB\u001b[0m \u001b[31m80.3 MB/s\u001b[0m eta \u001b[36m0:00:00\u001b[0m\n",
            "\u001b[2K     \u001b[90m━━━━━━━━━━━━━━━━━━━━━━━━━━━━━━━━━━━━━━━━\u001b[0m \u001b[32m5.6/5.6 MB\u001b[0m \u001b[31m110.7 MB/s\u001b[0m eta \u001b[36m0:00:00\u001b[0m\n",
            "\u001b[2K     \u001b[90m━━━━━━━━━━━━━━━━━━━━━━━━━━━━━━━━━━━━━━\u001b[0m \u001b[32m190.2/190.2 kB\u001b[0m \u001b[31m25.2 MB/s\u001b[0m eta \u001b[36m0:00:00\u001b[0m\n",
            "\u001b[2K     \u001b[90m━━━━━━━━━━━━━━━━━━━━━━━━━━━━━━━━━━━━━━━━\u001b[0m \u001b[32m59.6/59.6 kB\u001b[0m \u001b[31m8.8 MB/s\u001b[0m eta \u001b[36m0:00:00\u001b[0m\n",
            "\u001b[2K     \u001b[90m━━━━━━━━━━━━━━━━━━━━━━━━━━━━━━━━━━━━━━━━\u001b[0m \u001b[32m4.5/4.5 MB\u001b[0m \u001b[31m111.1 MB/s\u001b[0m eta \u001b[36m0:00:00\u001b[0m\n",
            "\u001b[2K     \u001b[90m━━━━━━━━━━━━━━━━━━━━━━━━━━━━━━━━━━━━━━━\u001b[0m \u001b[32m13.5/13.5 MB\u001b[0m \u001b[31m105.3 MB/s\u001b[0m eta \u001b[36m0:00:00\u001b[0m\n",
            "\u001b[2K     \u001b[90m━━━━━━━━━━━━━━━━━━━━━━━━━━━━━━━━━━━━━━\u001b[0m \u001b[32m117.0/117.0 kB\u001b[0m \u001b[31m14.7 MB/s\u001b[0m eta \u001b[36m0:00:00\u001b[0m\n",
            "\u001b[?25h  Preparing metadata (setup.py) ... \u001b[?25l\u001b[?25hdone\n",
            "\u001b[2K     \u001b[90m━━━━━━━━━━━━━━━━━━━━━━━━━━━━━━━━━━━━━━━━\u001b[0m \u001b[32m62.7/62.7 kB\u001b[0m \u001b[31m4.8 MB/s\u001b[0m eta \u001b[36m0:00:00\u001b[0m\n",
            "\u001b[2K     \u001b[90m━━━━━━━━━━━━━━━━━━━━━━━━━━━━━━━━━━━━━━\u001b[0m \u001b[32m193.7/193.7 kB\u001b[0m \u001b[31m23.4 MB/s\u001b[0m eta \u001b[36m0:00:00\u001b[0m\n",
            "\u001b[2K     \u001b[90m━━━━━━━━━━━━━━━━━━━━━━━━━━━━━━━━━━━━━━\u001b[0m \u001b[32m178.0/178.0 kB\u001b[0m \u001b[31m22.4 MB/s\u001b[0m eta \u001b[36m0:00:00\u001b[0m\n",
            "\u001b[?25h  Preparing metadata (setup.py) ... \u001b[?25l\u001b[?25hdone\n",
            "\u001b[2K     \u001b[90m━━━━━━━━━━━━━━━━━━━━━━━━━━━━━━━━━━━━━━━━\u001b[0m \u001b[32m16.9/16.9 MB\u001b[0m \u001b[31m82.8 MB/s\u001b[0m eta \u001b[36m0:00:00\u001b[0m\n",
            "\u001b[2K     \u001b[90m━━━━━━━━━━━━━━━━━━━━━━━━━━━━━━━━━━━━━━━━\u001b[0m \u001b[32m64.3/64.3 kB\u001b[0m \u001b[31m8.4 MB/s\u001b[0m eta \u001b[36m0:00:00\u001b[0m\n",
            "\u001b[2K     \u001b[90m━━━━━━━━━━━━━━━━━━━━━━━━━━━━━━━━━━━━━━━━\u001b[0m \u001b[32m80.6/80.6 kB\u001b[0m \u001b[31m10.9 MB/s\u001b[0m eta \u001b[36m0:00:00\u001b[0m\n",
            "\u001b[2K     \u001b[90m━━━━━━━━━━━━━━━━━━━━━━━━━━━━━━━━━━━━━━━━\u001b[0m \u001b[32m69.6/69.6 kB\u001b[0m \u001b[31m9.2 MB/s\u001b[0m eta \u001b[36m0:00:00\u001b[0m\n",
            "\u001b[2K     \u001b[90m━━━━━━━━━━━━━━━━━━━━━━━━━━━━━━━━━━━━━━━━\u001b[0m \u001b[32m50.5/50.5 kB\u001b[0m \u001b[31m5.5 MB/s\u001b[0m eta \u001b[36m0:00:00\u001b[0m\n",
            "\u001b[2K     \u001b[90m━━━━━━━━━━━━━━━━━━━━━━━━━━━━━━━━━━━━━━━━\u001b[0m \u001b[32m13.1/13.1 MB\u001b[0m \u001b[31m48.7 MB/s\u001b[0m eta \u001b[36m0:00:00\u001b[0m\n",
            "\u001b[2K     \u001b[90m━━━━━━━━━━━━━━━━━━━━━━━━━━━━━━━━━━━━━━━━\u001b[0m \u001b[32m46.0/46.0 kB\u001b[0m \u001b[31m6.0 MB/s\u001b[0m eta \u001b[36m0:00:00\u001b[0m\n",
            "\u001b[2K     \u001b[90m━━━━━━━━━━━━━━━━━━━━━━━━━━━━━━━━━━━━━━━━\u001b[0m \u001b[32m5.6/5.6 MB\u001b[0m \u001b[31m84.8 MB/s\u001b[0m eta \u001b[36m0:00:00\u001b[0m\n",
            "\u001b[2K     \u001b[90m━━━━━━━━━━━━━━━━━━━━━━━━━━━━━━━━━━━━━━━━\u001b[0m \u001b[32m58.3/58.3 kB\u001b[0m \u001b[31m7.8 MB/s\u001b[0m eta \u001b[36m0:00:00\u001b[0m\n",
            "\u001b[2K     \u001b[90m━━━━━━━━━━━━━━━━━━━━━━━━━━━━━━━━━━━━━━━━\u001b[0m \u001b[32m86.8/86.8 kB\u001b[0m \u001b[31m10.0 MB/s\u001b[0m eta \u001b[36m0:00:00\u001b[0m\n",
            "\u001b[?25h  Building wheel for basicsr (setup.py) ... \u001b[?25l\u001b[?25hdone\n",
            "  Building wheel for font-roboto (setup.py) ... \u001b[?25l\u001b[?25hdone\n",
            "  Building wheel for antlr4-python3-runtime (setup.py) ... \u001b[?25l\u001b[?25hdone\n",
            "  Building wheel for jsonmerge (setup.py) ... \u001b[?25l\u001b[?25hdone\n",
            "  Building wheel for ffmpy (setup.py) ... \u001b[?25l\u001b[?25hdone\n",
            "  Building wheel for python-multipart (setup.py) ... \u001b[?25l\u001b[?25hdone\n",
            "  Building wheel for filterpy (setup.py) ... \u001b[?25l\u001b[?25hdone\n",
            "\u001b[33mWARNING: Running pip as the 'root' user can result in broken permissions and conflicting behaviour with the system package manager. It is recommended to use a virtual environment instead: https://pip.pypa.io/warnings/venv\u001b[0m\u001b[33m\n",
            "\u001b[0m\u001b[33mWARNING: Running pip as the 'root' user can result in broken permissions and conflicting behaviour with the system package manager. It is recommended to use a virtual environment instead: https://pip.pypa.io/warnings/venv\u001b[0m\u001b[33m\n",
            "\u001b[0mPython 3.8.10 (default, Nov 14 2022, 12:59:47) \n",
            "[GCC 9.4.0]\n",
            "Commit hash: 9beb794e0b0dc1a0f9e89d8e38bd789a8c608397\n",
            "Installing clip\n",
            "Installing open_clip\n",
            "Cloning Stable Diffusion into repositories/stable-diffusion-stability-ai...\n",
            "Cloning Taming Transformers into repositories/taming-transformers...\n",
            "Cloning K-diffusion into repositories/k-diffusion...\n",
            "Cloning CodeFormer into repositories/CodeFormer...\n",
            "Cloning BLIP into repositories/BLIP...\n",
            "Installing requirements for CodeFormer\n",
            "Installing requirements for Web UI\n",
            "Launching Web UI with arguments: --share --enable-console-prompts --gradio-debug --ckpt /content/stable-diffusion-webui/models/Stable-diffusion/Anything-V3.0-pruned.ckpt --vae-path /content/stable-diffusion-webui/models/VAE/Anything-V3.0.vae.pt\n",
            "No module 'xformers'. Proceeding without it.\n",
            "Calculating sha256 for /content/stable-diffusion-webui/models/Stable-diffusion/Anything-V3.0-pruned.ckpt: 543bcbc21294831c6245cd74c8a7707761e28812c690f946cb81fef930d54b5e\n",
            "Loading weights [543bcbc212] from /content/stable-diffusion-webui/models/Stable-diffusion/Anything-V3.0-pruned.ckpt\n",
            "Creating model from config: /content/stable-diffusion-webui/configs/v1-inference.yaml\n",
            "LatentDiffusion: Running in eps-prediction mode\n",
            "DiffusionWrapper has 859.52 M params.\n",
            "Downloading (…)olve/main/vocab.json: 100% 961k/961k [00:01<00:00, 873kB/s]\n",
            "Downloading (…)olve/main/merges.txt: 100% 525k/525k [00:01<00:00, 475kB/s]\n",
            "Downloading (…)cial_tokens_map.json: 100% 389/389 [00:00<00:00, 153kB/s]\n",
            "Downloading (…)okenizer_config.json: 100% 905/905 [00:00<00:00, 361kB/s]\n",
            "Downloading (…)lve/main/config.json: 100% 4.52k/4.52k [00:00<00:00, 550kB/s]\n",
            "Loading VAE weights from commandline argument: /content/stable-diffusion-webui/models/VAE/Anything-V3.0.vae.pt\n",
            "Applying cross attention optimization (Doggettx).\n",
            "Textual inversion embeddings loaded(0): \n",
            "Model loaded in 50.4s (calculate hash: 19.7s, load weights from disk: 3.9s, create model: 12.8s, apply weights to model: 2.2s, apply half(): 0.7s, load VAE: 10.3s, move model to device: 0.6s).\n",
            "Checkpoint Anything-V3.0-pruned.ckpt [543bcbc212] not found; loading fallback Anything-V3.0-pruned.ckpt [543bcbc212]\n",
            "Running on local URL:  http://127.0.0.1:7860\n",
            "Running on public URL: https://e2b00573-0c93-43d1.gradio.live\n",
            "\n",
            "This share link expires in 72 hours. For free permanent hosting and GPU upgrades (NEW!), check out Spaces: https://huggingface.co/spaces\n",
            "\n",
            "txt2img: ((masterpiece, best quality)), 1girl, animal ears, looking at viewer, serafuku, wolf ears,\n",
            "  0% 0/20 [00:00<?, ?it/s]\n",
            "  5% 1/20 [00:07<02:29,  7.85s/it]\n",
            " 10% 2/20 [00:08<01:01,  3.44s/it]\n",
            " 15% 3/20 [00:08<00:34,  2.03s/it]\n",
            " 20% 4/20 [00:08<00:22,  1.38s/it]\n",
            " 25% 5/20 [00:09<00:15,  1.00s/it]\n",
            " 30% 6/20 [00:09<00:11,  1.27it/s]\n",
            " 35% 7/20 [00:10<00:08,  1.54it/s]\n",
            " 40% 8/20 [00:10<00:06,  1.80it/s]\n",
            " 45% 9/20 [00:10<00:05,  2.02it/s]\n",
            " 50% 10/20 [00:11<00:04,  2.20it/s]\n",
            " 55% 11/20 [00:11<00:03,  2.35it/s]\n",
            " 60% 12/20 [00:11<00:03,  2.45it/s]\n",
            " 65% 13/20 [00:12<00:02,  2.54it/s]\n",
            " 70% 14/20 [00:12<00:02,  2.60it/s]\n",
            " 75% 15/20 [00:12<00:01,  2.63it/s]\n",
            " 80% 16/20 [00:13<00:01,  2.68it/s]\n",
            " 85% 17/20 [00:13<00:01,  2.70it/s]\n",
            " 90% 18/20 [00:13<00:00,  2.71it/s]\n",
            " 95% 19/20 [00:14<00:00,  2.72it/s]\n",
            "100% 20/20 [00:14<00:00,  1.36it/s]\n",
            "Total progress: 100% 20/20 [00:12<00:00,  1.55it/s]\n",
            "\n",
            "txt2img: ((masterpiece, best quality)), 1girl, animal ears, looking at viewer, serafuku, wolf ears,\n",
            "  0% 0/20 [00:00<?, ?it/s]\n",
            "  5% 1/20 [00:00<00:08,  2.36it/s]\n",
            " 10% 2/20 [00:00<00:06,  2.59it/s]\n",
            " 15% 3/20 [00:01<00:06,  2.63it/s]\n",
            " 20% 4/20 [00:01<00:06,  2.66it/s]\n",
            " 25% 5/20 [00:01<00:05,  2.72it/s]\n",
            " 30% 6/20 [00:02<00:05,  2.69it/s]\n",
            " 35% 7/20 [00:02<00:04,  2.70it/s]\n",
            " 40% 8/20 [00:02<00:04,  2.72it/s]\n",
            " 45% 9/20 [00:03<00:04,  2.70it/s]\n",
            " 50% 10/20 [00:03<00:03,  2.71it/s]\n",
            " 55% 11/20 [00:04<00:03,  2.72it/s]\n",
            " 60% 12/20 [00:04<00:02,  2.70it/s]\n",
            " 65% 13/20 [00:04<00:02,  2.71it/s]\n",
            " 70% 14/20 [00:05<00:02,  2.70it/s]\n",
            " 75% 15/20 [00:05<00:01,  2.69it/s]\n",
            " 80% 16/20 [00:05<00:01,  2.70it/s]\n",
            " 85% 17/20 [00:06<00:01,  2.68it/s]\n",
            " 90% 18/20 [00:06<00:00,  2.69it/s]\n",
            " 95% 19/20 [00:07<00:00,  2.69it/s]\n",
            "100% 20/20 [00:07<00:00,  2.69it/s]\n",
            "Total progress: 100% 20/20 [00:07<00:00,  2.68it/s]\n",
            "\n",
            "txt2img: ((masterpiece, best quality)), 1girl, animal ears, looking at viewer, serafuku, wolf ears, \n",
            "  0% 0/20 [00:00<?, ?it/s]\n",
            "  5% 1/20 [00:00<00:07,  2.51it/s]\n",
            " 10% 2/20 [00:00<00:06,  2.70it/s]\n",
            " 15% 3/20 [00:01<00:06,  2.67it/s]\n",
            " 20% 4/20 [00:01<00:05,  2.70it/s]\n",
            " 25% 5/20 [00:01<00:05,  2.74it/s]\n",
            " 30% 6/20 [00:02<00:05,  2.69it/s]\n",
            " 35% 7/20 [00:02<00:04,  2.71it/s]\n",
            " 40% 8/20 [00:02<00:04,  2.72it/s]\n",
            " 45% 9/20 [00:03<00:04,  2.68it/s]\n",
            " 50% 10/20 [00:03<00:03,  2.70it/s]\n",
            " 55% 11/20 [00:04<00:03,  2.70it/s]\n",
            " 60% 12/20 [00:04<00:02,  2.69it/s]\n",
            " 65% 13/20 [00:04<00:02,  2.71it/s]\n",
            " 70% 14/20 [00:05<00:02,  2.70it/s]\n",
            " 75% 15/20 [00:05<00:01,  2.70it/s]\n",
            " 80% 16/20 [00:05<00:01,  2.71it/s]\n",
            " 85% 17/20 [00:06<00:01,  2.69it/s]\n",
            " 90% 18/20 [00:06<00:00,  2.70it/s]\n",
            " 95% 19/20 [00:07<00:00,  2.70it/s]\n",
            "100% 20/20 [00:07<00:00,  2.70it/s]\n",
            "Total progress: 100% 20/20 [00:07<00:00,  2.68it/s]\n",
            "\n",
            "txt2img: ((masterpiece, best quality)), 1girl, little girl, animal ears, looking at viewer, serafuku, long hair, long skirt, wolf ears, black hair, red eyes, black serafuku, \n",
            "  0% 0/20 [00:00<?, ?it/s]\n",
            "  5% 1/20 [00:00<00:07,  2.53it/s]\n",
            " 10% 2/20 [00:00<00:06,  2.67it/s]\n",
            " 15% 3/20 [00:01<00:06,  2.65it/s]\n",
            " 20% 4/20 [00:01<00:05,  2.69it/s]\n",
            " 25% 5/20 [00:01<00:05,  2.72it/s]\n",
            " 30% 6/20 [00:02<00:05,  2.67it/s]\n",
            " 35% 7/20 [00:02<00:04,  2.69it/s]\n",
            " 40% 8/20 [00:02<00:04,  2.70it/s]\n",
            " 45% 9/20 [00:03<00:04,  2.69it/s]\n",
            " 50% 10/20 [00:03<00:03,  2.71it/s]\n",
            " 55% 11/20 [00:04<00:03,  2.70it/s]\n",
            " 60% 12/20 [00:04<00:02,  2.69it/s]\n",
            " 65% 13/20 [00:04<00:02,  2.71it/s]\n",
            " 70% 14/20 [00:05<00:02,  2.68it/s]\n",
            " 75% 15/20 [00:05<00:01,  2.69it/s]\n",
            " 80% 16/20 [00:05<00:01,  2.69it/s]\n",
            " 85% 17/20 [00:06<00:01,  2.68it/s]\n",
            " 90% 18/20 [00:06<00:00,  2.68it/s]\n",
            " 95% 19/20 [00:07<00:00,  2.68it/s]\n",
            "100% 20/20 [00:07<00:00,  2.68it/s]\n",
            "Total progress: 100% 20/20 [00:07<00:00,  2.67it/s]\n",
            "Interrupted with signal 2 in <frame at 0xc67c3890, file '/usr/local/lib/python3.8/dist-packages/gradio/blocks.py', line 1636, code block_thread>\n"
          ]
        }
      ],
      "source": [
        "use_auth = False #@param {type: \"boolean\"}\n",
        "id = \"\" #@param {type: \"string\"}\n",
        "passwd = \"\" #@param {type: \"string\"}\n",
        "\n",
        "if (use_auth == True):\n",
        "    auth_option = f\"--gradio-auth {id}:{passwd}\"\n",
        "else:\n",
        "    auth_option = \"\"\n",
        "\n",
        "%cd /content/stable-diffusion-webui\n",
        "\n",
        "# hacks to load model in colab\n",
        "!sed -i 's/map_location=\"cpu\"/map_location=\"cuda\"/g' /content/stable-diffusion-webui/modules/sd_models.py\n",
        "!pip install -U -qq pip\n",
        "!pip install -qq -r requirements.txt\n",
        "!pip install -qq pytorch_lightning==1.7.7\n",
        "!echo \"\" > /tmp/requirements_empty.txt\n",
        "\n",
        "normal_args=\"--enable-console-prompts --gradio-debug\"\n",
        "!COMMANDLINE_ARGS=\"{url_option} {normal_args} {auth_option} {ckpt_option} {vae_option}\" REQS_FILE=\"/tmp/requirements_empty.txt\" python launch.py\n"
      ]
    },
    {
      "cell_type": "markdown",
      "metadata": {
        "id": "T3957x2AY7iP"
      },
      "source": [
        "# WebUIを使い終わった後のためのコマンド (commands for ***after*** you have gotten done with a session)"
      ]
    },
    {
      "cell_type": "markdown",
      "metadata": {
        "id": "aCtJffM2ZE06"
      },
      "source": [
        "## 出力画像をZIPファイルにしてDL (Zip images and download on Your PC)"
      ]
    },
    {
      "cell_type": "markdown",
      "source": [
        "- 注意: ダウンロードが終わるまでタブを閉じたり、ランタイムを削除しないでください。さもないとあなたの作品は奈落へと消えていくでしょう(n敗)  \n",
        "Attention: DO NOT close this tab or delete runtime until download is completed. Or your works will go into NULL Blackhole..."
      ],
      "metadata": {
        "id": "2aDu4lkilkef"
      }
    },
    {
      "cell_type": "code",
      "execution_count": null,
      "metadata": {
        "id": "TmRqNyiAZCHu",
        "colab": {
          "base_uri": "https://localhost:8080/",
          "height": 217
        },
        "outputId": "54e90b6e-0962-4b6e-93b9-8f6638473604"
      },
      "outputs": [
        {
          "output_type": "stream",
          "name": "stdout",
          "text": [
            "  adding: content/stable-diffusion-webui/outputs/ (stored 0%)\n",
            "  adding: content/stable-diffusion-webui/outputs/txt2img-images/ (stored 0%)\n",
            "  adding: content/stable-diffusion-webui/outputs/txt2img-images/00000-3002671746-((masterpiece, best quality)), 1girl, animal ears, looking at viewer, serafuku, wolf ears,.png (deflated 0%)\n",
            "  adding: content/stable-diffusion-webui/outputs/txt2img-images/00003-3531687903-((masterpiece, best quality)), 1girl, little girl, animal ears, looking at viewer, serafuku, long hair, long skirt, wolf ears, b.png (deflated 0%)\n",
            "  adding: content/stable-diffusion-webui/outputs/txt2img-images/00002-1705060044-((masterpiece, best quality)), 1girl, animal ears, looking at viewer, serafuku, wolf ears,.png (deflated 0%)\n",
            "  adding: content/stable-diffusion-webui/outputs/txt2img-images/00001-564424152-((masterpiece, best quality)), 1girl, animal ears, looking at viewer, serafuku, wolf ears,.png (deflated 0%)\n",
            "  adding: content/stable-diffusion-webui/outputs/txt2img-grids/ (stored 0%)\n",
            "  adding: content/stable-diffusion-webui/outputs/img2img-images/ (stored 0%)\n",
            "  adding: content/stable-diffusion-webui/outputs/extras-images/ (stored 0%)\n",
            "  adding: content/stable-diffusion-webui/outputs/img2img-grids/ (stored 0%)\n"
          ]
        },
        {
          "output_type": "display_data",
          "data": {
            "text/plain": [
              "<IPython.core.display.Javascript object>"
            ],
            "application/javascript": [
              "\n",
              "    async function download(id, filename, size) {\n",
              "      if (!google.colab.kernel.accessAllowed) {\n",
              "        return;\n",
              "      }\n",
              "      const div = document.createElement('div');\n",
              "      const label = document.createElement('label');\n",
              "      label.textContent = `Downloading \"${filename}\": `;\n",
              "      div.appendChild(label);\n",
              "      const progress = document.createElement('progress');\n",
              "      progress.max = size;\n",
              "      div.appendChild(progress);\n",
              "      document.body.appendChild(div);\n",
              "\n",
              "      const buffers = [];\n",
              "      let downloaded = 0;\n",
              "\n",
              "      const channel = await google.colab.kernel.comms.open(id);\n",
              "      // Send a message to notify the kernel that we're ready.\n",
              "      channel.send({})\n",
              "\n",
              "      for await (const message of channel.messages) {\n",
              "        // Send a message to notify the kernel that we're ready.\n",
              "        channel.send({})\n",
              "        if (message.buffers) {\n",
              "          for (const buffer of message.buffers) {\n",
              "            buffers.push(buffer);\n",
              "            downloaded += buffer.byteLength;\n",
              "            progress.value = downloaded;\n",
              "          }\n",
              "        }\n",
              "      }\n",
              "      const blob = new Blob(buffers, {type: 'application/binary'});\n",
              "      const a = document.createElement('a');\n",
              "      a.href = window.URL.createObjectURL(blob);\n",
              "      a.download = filename;\n",
              "      div.appendChild(a);\n",
              "      a.click();\n",
              "      div.remove();\n",
              "    }\n",
              "  "
            ]
          },
          "metadata": {}
        },
        {
          "output_type": "display_data",
          "data": {
            "text/plain": [
              "<IPython.core.display.Javascript object>"
            ],
            "application/javascript": [
              "download(\"download_3fbd23a9-94ba-493d-aa02-b8d457d33c3f\", \"stable-diffusion-webui.zip\", 1887778)"
            ]
          },
          "metadata": {}
        }
      ],
      "source": [
        "!zip -r /content/stable-diffusion-webui /content/stable-diffusion-webui/outputs \n",
        "\n",
        "from google.colab import files\n",
        "files.download('/content/stable-diffusion-webui.zip')"
      ]
    },
    {
      "cell_type": "markdown",
      "metadata": {
        "id": "tcslU-S2ZNr9"
      },
      "source": [
        "## Google Driveに出力を保存 (Save images to Google Drive)\n",
        "\n",
        "- **注意: Google Driveに保存する際、Googleは中身をスキャンします。もしヤバそうであれば別のアカウントを作って実行してください。**  \n",
        " **Warning: this will cause google to scan your drive, so if you intend to use this and worry about that kind of stuff, probablly just set this up on a clean account that's just for this colab**"
      ]
    },
    {
      "cell_type": "markdown",
      "source": [
        "- `output_name_type`: Google Driveに保存する際のフォルダ名  \n",
        "(Folder name that save images to Google Drive)\n",
        "  - `date`: \"(今の日付)_outputs\"がフォルダ名になります  \n",
        "  (Save output folder as \"(Now date)_outputs\")\n",
        "  - `custom`: \"(custom_name)_outputs\"がフォルダ名になります  \n",
        "  (Save output folder as \"(custom_name)_outputs\")\n",
        "- `custom_name`: `output_name_type`が`custom`の時、フォルダー名の先頭に入る名前を入力  \n",
        "(If you set `output_name_type` as `custom`, input output folder name)"
      ],
      "metadata": {
        "id": "pVq5yLv5H-Kv"
      }
    },
    {
      "cell_type": "code",
      "execution_count": null,
      "metadata": {
        "id": "djVJO6oidhzA",
        "cellView": "form"
      },
      "outputs": [],
      "source": [
        "\n",
        "%cd /content/\n",
        "import datetime\n",
        "\n",
        "dt_now = datetime.datetime.now()\n",
        "savetime = dt_now.strftime('%Y-%m-%d_%H:%M:%S')\n",
        "output_name_type = \"date\" #@param ['date', 'custom']\n",
        "\n",
        "if (output_name_type == 'custom'):\n",
        "  custom_name = \"\" #@param {type: 'string'}\n",
        "  file_name = custom_name + '_outputs'\n",
        "else:\n",
        "  file_name = savetime + '_outputs'\n",
        "    \n",
        "%cp -r \"/content/stable-diffusion-webui/outputs\" \"/content\"\n",
        "%mv -T \"/content/outputs\" $file_name\n",
        "\n",
        "from google.colab import drive # type: ignore\n",
        "try:\n",
        "  drive_path = \"/content/drive/\"\n",
        "  drive.mount(drive_path,force_remount=False)\n",
        "except:\n",
        "  print(\"...error mounting drive or with drive path variables\")\n",
        "\n",
        "!cp -r /content/$file_name \"/content/drive/MyDrive\"\n"
      ]
    },
    {
      "cell_type": "markdown",
      "source": [
        "## おまけ"
      ],
      "metadata": {
        "id": "_0vCnZQrH3r2"
      }
    },
    {
      "cell_type": "code",
      "execution_count": null,
      "metadata": {
        "id": "BDVH2VSvhixD"
      },
      "outputs": [],
      "source": [
        "!sudo apt install screenfetch -y\n",
        "!screenfetch"
      ]
    },
    {
      "cell_type": "markdown",
      "source": [
        "# リリースノート(Release Note)"
      ],
      "metadata": {
        "id": "HXAD0-iitQbt"
      }
    },
    {
      "cell_type": "markdown",
      "source": [
        "- V1.0(2023/01/27)\n",
        "  - 初版"
      ],
      "metadata": {
        "id": "dWbuLcLAtYdu"
      }
    }
  ],
  "metadata": {
    "accelerator": "GPU",
    "colab": {
      "provenance": [],
      "collapsed_sections": [
        "HXAD0-iitQbt"
      ],
      "include_colab_link": true
    },
    "gpuClass": "standard",
    "kernelspec": {
      "display_name": "Python 3",
      "name": "python3"
    },
    "language_info": {
      "name": "python"
    }
  },
  "nbformat": 4,
  "nbformat_minor": 0
}